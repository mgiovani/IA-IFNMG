{
 "cells": [
  {
   "cell_type": "code",
   "execution_count": 1,
   "metadata": {},
   "outputs": [],
   "source": [
    "import matplotlib.pyplot as plt\n",
    "import tensorflow as tf\n",
    "import warnings\n",
    "from tensorflow.keras.models import Sequential\n",
    "from tensorflow.keras.layers import Dense, Dropout, LSTM"
   ]
  },
  {
   "cell_type": "code",
   "execution_count": 7,
   "metadata": {},
   "outputs": [],
   "source": [
    "mnist = tf.keras.datasets.mnist\n",
    "(x_treino, y_treino),(x_teste, y_teste) = mnist.load_data()"
   ]
  },
  {
   "cell_type": "markdown",
   "metadata": {},
   "source": [
    "## Dataset\n",
    "[MNIST](http://yann.lecun.com/exdb/mnist/) é um dataset com 60000 imagens de dígitos escritos a mão:\n",
    "![Dataset](https://upload.wikimedia.org/wikipedia/commons/2/27/MnistExamples.png)\n",
    "\n",
    "Cada uma das imagem é rotulada e possui 28x28 pixels:"
   ]
  },
  {
   "cell_type": "code",
   "execution_count": 3,
   "metadata": {},
   "outputs": [
    {
     "data": {
      "image/png": "[encoded data removed]",
      "text/plain": [
       "<Figure size 720x504 with 4 Axes>"
      ]
     },
     "metadata": {
      "needs_background": "light"
     },
     "output_type": "display_data"
    }
   ],
   "source": [
    "plt.figure(figsize=(10, 7)) \n",
    "plt.subplot(221)\n",
    "plt.imshow(x_treino[0], cmap=plt.get_cmap('gray'))\n",
    "plt.subplot(222)\n",
    "plt.imshow(x_treino[10], cmap=plt.get_cmap('gray'))\n",
    "plt.subplot(223)\n",
    "plt.imshow(x_treino[20], cmap=plt.get_cmap('gray'))\n",
    "plt.subplot(224)\n",
    "plt.imshow(x_treino[25], cmap=plt.get_cmap('gray'))\n",
    "plt.show()"
   ]
  },
  {
   "cell_type": "markdown",
   "metadata": {},
   "source": [
    "Os possíveis valores por padrão são de 0 a 255 para cada pixel da imagem. Normalizando a base para de 0 a 1 é possível obter melhores resultados:"
   ]
  },
  {
   "cell_type": "code",
   "execution_count": 4,
   "metadata": {},
   "outputs": [
    {
     "name": "stdout",
     "output_type": "stream",
     "text": [
      "Número de imagens: 60000\n",
      "Linhas por imagem: 28\n",
      "Colunas por imagem: 28\n"
     ]
    }
   ],
   "source": [
    "x_treino = x_treino/255.0\n",
    "x_teste = x_teste/255.0\n",
    "\n",
    "print(f'Número de imagens: {x_treino.shape[0]}\\n'\n",
    "        f'Linhas por imagem: {x_treino.shape[1]}\\n'\n",
    "        f'Colunas por imagem: {x_treino.shape[2]}')"
   ]
  },
  {
   "cell_type": "markdown",
   "metadata": {},
   "source": [
    "O modelo contruído é composto pelas seguintes camadas:\n",
    "- LSTM: Camada capaz de processar sequências de dados e não apenas uma entrada comum\n",
    "    - 128 é o número de células que serão utilizadas\n",
    "    - input_shape dita o formato de entrada para estas células, no caso se trata de uma entrada de 28x28\n",
    "    - activation é a função de ativação utilizada pela célula, relu retorna um max entre x e 0\n",
    "    - return_sequences faz com que a camada tenha como saída uma sequência e não uma saída simples\n",
    "    - dropout é uma medida contra overfitting e desliga algumas conexões aleatoriamente\n",
    "- LSTM: Uma segunda camada similar a primeira mas desta vez com um menor dropout e uma saída simples\n",
    "- Dense: É a implementação simples de um nó em uma rede neural, sua saída é funcao_ativacao(prod_escalar(entrada, pesos) + bias)\n",
    "- Dense: Outra camada densa mas desta vez com a função de ativação softmax, responsável por gerar uma distribuição probabilística como saída, o número de células desta vez é 10 (referente aos possíveis dígitos 0-9)"
   ]
  },
  {
   "cell_type": "code",
   "execution_count": 8,
   "metadata": {},
   "outputs": [],
   "source": [
    "warnings.filterwarnings('ignore')\n",
    "\n",
    "model = Sequential()\n",
    "model.add(LSTM(128, input_shape=(x_treino.shape[1:]), activation='relu', return_sequences=True))\n",
    "model.add(Dropout(0.2))\n",
    "\n",
    "model.add(LSTM(128, activation='relu'))\n",
    "model.add(Dropout(0.1))\n",
    "\n",
    "model.add(Dense(32, activation='relu'))\n",
    "model.add(Dropout(0.2))\n",
    "\n",
    "model.add(Dense(10, activation='softmax'))"
   ]
  },
  {
   "cell_type": "markdown",
   "metadata": {},
   "source": [
    "A função de otimização a ser usada será a Adam, uma função de otimização baseada em gradientes de primeira ordem, os parâmetros recebidos por ela são o learning_rate e o decay. O primeiro define a taxa de aprendizado e o segundo define o quanto essa taxa cai durante a execução do algoritmo.\n",
    "\n",
    "Ao compilar o modelo definimos a função de loss para SCC que terá como saída inteiros baseados nas probabilidades recebidas pela última camada."
   ]
  },
  {
   "cell_type": "code",
   "execution_count": 6,
   "metadata": {},
   "outputs": [
    {
     "name": "stdout",
     "output_type": "stream",
     "text": [
      "Train on 60000 samples, validate on 10000 samples\n",
      "Epoch 1/7\n",
      "60000/60000 [==============================] - 188s 3ms/sample - loss: 0.5723 - acc: 0.8116 - val_loss: 0.1172 - val_acc: 0.9618\n",
      "Epoch 2/7\n",
      "60000/60000 [==============================] - 187s 3ms/sample - loss: 0.1486 - acc: 0.9587 - val_loss: 0.0832 - val_acc: 0.9757\n",
      "Epoch 3/7\n",
      "60000/60000 [==============================] - 180s 3ms/sample - loss: 0.1006 - acc: 0.9735 - val_loss: 0.0636 - val_acc: 0.9811\n",
      "Epoch 4/7\n",
      "60000/60000 [==============================] - 180s 3ms/sample - loss: 0.0796 - acc: 0.9784 - val_loss: 0.0549 - val_acc: 0.9849\n",
      "Epoch 5/7\n",
      "60000/60000 [==============================] - 182s 3ms/sample - loss: 0.0595 - acc: 0.9841 - val_loss: 0.0529 - val_acc: 0.9846\n",
      "Epoch 6/7\n",
      "60000/60000 [==============================] - 235s 4ms/sample - loss: 0.0524 - acc: 0.9862 - val_loss: 0.0414 - val_acc: 0.9875\n",
      "Epoch 7/7\n",
      "60000/60000 [==============================] - 218s 4ms/sample - loss: 0.0455 - acc: 0.9875 - val_loss: 0.0426 - val_acc: 0.9874\n"
     ]
    },
    {
     "data": {
      "text/plain": [
       "<tensorflow.python.keras.callbacks.History at 0x218f65c29b0>"
      ]
     },
     "execution_count": 6,
     "metadata": {},
     "output_type": "execute_result"
    }
   ],
   "source": [
    "opt = tf.keras.optimizers.Adam(lr=1e-3, decay=1e-4)\n",
    "\n",
    "model.compile(\n",
    "    loss='sparse_categorical_crossentropy',\n",
    "    optimizer=opt,\n",
    "    metrics=['accuracy'],\n",
    ")\n",
    "\n",
    "model.fit(x_treino, y_treino, epochs=7, validation_data=(x_teste, y_teste))"
   ]
  }
 ],
 "metadata": {
  "kernelspec": {
   "display_name": "Python 3",
   "language": "python",
   "name": "python3"
  },
  "language_info": {
   "codemirror_mode": {
    "name": "ipython",
    "version": 3
   },
   "file_extension": ".py",
   "mimetype": "text/x-python",
   "name": "python",
   "nbconvert_exporter": "python",
   "pygments_lexer": "ipython3",
   "version": "3.7.1"
  }
 },
 "nbformat": 4,
 "nbformat_minor": 2
}
