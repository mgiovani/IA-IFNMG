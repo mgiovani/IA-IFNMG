{
 "cells": [
  {
   "cell_type": "code",
   "execution_count": 19,
   "metadata": {},
   "outputs": [],
   "source": [
    "import tensorflow as tf\n",
    "import warnings\n",
    "from tensorflow.keras.models import Sequential\n",
    "from tensorflow.keras.layers import Dense, Dropout, LSTM"
   ]
  },
  {
   "cell_type": "code",
   "execution_count": 20,
   "metadata": {},
   "outputs": [
    {
     "name": "stdout",
     "output_type": "stream",
     "text": [
      "Número de imagens: 60000\n",
      "Linhas por imagem: 28\n",
      "Colunas por imagem: 28\n"
     ]
    }
   ],
   "source": [
    "warnings.filterwarnings('ignore')\n",
    "\n",
    "# mnist é um dataset rotulado de 60000 imagens (28x28) de dígitos escritos a mão\n",
    "mnist = tf.keras.datasets.mnist\n",
    "(x_treino, y_treino),(x_teste, y_teste) = mnist.load_data()  \n",
    "\n",
    "x_treino = x_treino/255.0\n",
    "x_teste = x_teste/255.0\n",
    "\n",
    "print(f'Número de imagens: {x_treino.shape[0]}\\n'\n",
    "        f'Linhas por imagem: {x_treino.shape[1]}\\n'\n",
    "        f'Colunas por imagem: {x_treino.shape[2]}')"
   ]
  },
  {
   "cell_type": "code",
   "execution_count": 21,
   "metadata": {},
   "outputs": [],
   "source": [
    "model = Sequential()\n",
    "model.add(LSTM(128, input_shape=(x_train.shape[1:]), activation='relu', return_sequences=True))\n",
    "model.add(Dropout(0.2))\n",
    "\n",
    "model.add(LSTM(128, activation='relu'))\n",
    "model.add(Dropout(0.1))\n",
    "\n",
    "model.add(Dense(32, activation='relu'))\n",
    "model.add(Dropout(0.2))\n",
    "\n",
    "model.add(Dense(10, activation='softmax'))"
   ]
  },
  {
   "cell_type": "code",
   "execution_count": 4,
   "metadata": {},
   "outputs": [
    {
     "name": "stdout",
     "output_type": "stream",
     "text": [
      "Train on 60000 samples, validate on 10000 samples\n",
      "Epoch 1/3\n",
      "60000/60000 [==============================] - 187s 3ms/sample - loss: 0.6442 - acc: 0.7845 - val_loss: 0.2048 - val_acc: 0.9348\n",
      "Epoch 2/3\n",
      "60000/60000 [==============================] - 190s 3ms/sample - loss: 0.1557 - acc: 0.9570 - val_loss: 0.0870 - val_acc: 0.9753\n",
      "Epoch 3/3\n",
      "60000/60000 [==============================] - 192s 3ms/sample - loss: 0.1142 - acc: 0.9690 - val_loss: 0.0729 - val_acc: 0.9784\n"
     ]
    },
    {
     "data": {
      "text/plain": [
       "<tensorflow.python.keras.callbacks.History at 0x1fa0eeb9a20>"
      ]
     },
     "execution_count": 4,
     "metadata": {},
     "output_type": "execute_result"
    }
   ],
   "source": [
    "opt = tf.keras.optimizers.Adam(lr=1e-3, decay=1e-4)\n",
    "\n",
    "model.compile(\n",
    "    loss='sparse_categorical_crossentropy',\n",
    "    optimizer=opt,\n",
    "    metrics=['accuracy'],\n",
    ")\n",
    "\n",
    "model.fit(x_treino,\n",
    "          y_treino,\n",
    "          epochs=3,\n",
    "          validation_data=(x_teste, y_teste))"
   ]
  },
  {
   "cell_type": "code",
   "execution_count": null,
   "metadata": {},
   "outputs": [],
   "source": []
  }
 ],
 "metadata": {
  "kernelspec": {
   "display_name": "Python 3",
   "language": "python",
   "name": "python3"
  },
  "language_info": {
   "codemirror_mode": {
    "name": "ipython",
    "version": 3
   },
   "file_extension": ".py",
   "mimetype": "text/x-python",
   "name": "python",
   "nbconvert_exporter": "python",
   "pygments_lexer": "ipython3",
   "version": "3.7.1"
  }
 },
 "nbformat": 4,
 "nbformat_minor": 2
}
